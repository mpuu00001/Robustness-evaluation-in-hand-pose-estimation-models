{
 "cells": [
  {
   "cell_type": "code",
   "execution_count": 10,
   "id": "cfe2c70a",
   "metadata": {},
   "outputs": [],
   "source": [
    "import json\n",
    "import pandas as pd\n",
    "from functions import *"
   ]
  },
  {
   "cell_type": "code",
   "execution_count": 17,
   "id": "35a84615",
   "metadata": {},
   "outputs": [],
   "source": []
  },
  {
   "cell_type": "code",
   "execution_count": 10,
   "id": "7c1c476b",
   "metadata": {},
   "outputs": [
    {
     "data": {
      "text/plain": [
       "8"
      ]
     },
     "execution_count": 10,
     "metadata": {},
     "output_type": "execute_result"
    }
   ],
   "source": [
    "len(df['Occluded_points'][0])"
   ]
  },
  {
   "cell_type": "code",
   "execution_count": 40,
   "id": "dcedb78d",
   "metadata": {},
   "outputs": [
    {
     "name": "stdout",
     "output_type": "stream",
     "text": [
      "[[0, 0], [6, 2], [10, 2], [14, 3], [17, 3], [8, 4], [18, 4]]\n",
      "[[7, 5], [1, 8], [4, 8], [12, 8], [2, 9], [11, 9], [3, 10]]\n",
      "[[15, 11], [16, 11], [5, 12], [19, 12], [9, 14], [20, 15], [13, 17]]\n"
     ]
    }
   ],
   "source": [
    "df = pd.read_csv(f'/Users/muxin/PyCharm/ASL/ASL.csv')\n",
    "\n",
    "count = [[i, 0] for i in range(21) ]\n",
    "    \n",
    "for i in range(len(df['Occluded_points'])):\n",
    "    for data in df['Occluded_points'][i].split(', '):\n",
    "        if data != 'None':\n",
    "            count[int(data)][1] += 1\n",
    "count = sorted(count, key=lambda x: x[1])   \n",
    "\n",
    "print(count[:7])\n",
    "print(count[7:14])\n",
    "print(count[14:])"
   ]
  },
  {
   "cell_type": "code",
   "execution_count": 6,
   "id": "d308840e",
   "metadata": {},
   "outputs": [],
   "source": [
    "dataset_dir = '/Users/muxin/PyCharm/organised_FreiHAND'\n",
    "xyz_array = read_json_data(f'{dataset_dir}/training_xyz.json')\n",
    "K_array = read_json_data(f'{dataset_dir}/training_K.json')\n",
    "\n",
    "index = 57\n",
    "actual_coordinates = projectPoints(xyz_array[index], K_array[index]).astype(np.int32)\n",
    "image = cv2.imread(f\"/Users/muxin/PyCharm/organised_FreiHAND/naked_hands/{index:08d}.jpg\")"
   ]
  },
  {
   "cell_type": "code",
   "execution_count": 12,
   "id": "05d257ed",
   "metadata": {},
   "outputs": [
    {
     "ename": "NameError",
     "evalue": "name 'occlude_keypoint_by_circle' is not defined",
     "output_type": "error",
     "traceback": [
      "\u001b[0;31m---------------------------------------------------------------------------\u001b[0m",
      "\u001b[0;31mNameError\u001b[0m                                 Traceback (most recent call last)",
      "Input \u001b[0;32mIn [12]\u001b[0m, in \u001b[0;36m<cell line: 4>\u001b[0;34m()\u001b[0m\n\u001b[1;32m      3\u001b[0m thickness \u001b[38;5;241m=\u001b[39m \u001b[38;5;241m-\u001b[39m\u001b[38;5;241m1\u001b[39m\n\u001b[1;32m      4\u001b[0m \u001b[38;5;28;01mfor\u001b[39;00m i \u001b[38;5;129;01min\u001b[39;00m \u001b[38;5;28mrange\u001b[39m(\u001b[38;5;28mlen\u001b[39m(actual_coordinates)):\n\u001b[0;32m----> 5\u001b[0m     image \u001b[38;5;241m=\u001b[39m \u001b[43mocclude_kepoint_by_circle\u001b[49m(image, actual_coordinates, i, radius, color, thickness)\n\u001b[1;32m      7\u001b[0m plt\u001b[38;5;241m.\u001b[39mimshow(image)\n\u001b[1;32m      8\u001b[0m plt\u001b[38;5;241m.\u001b[39mshow()\n",
      "\u001b[0;31mNameError\u001b[0m: name 'occlude_keypoint_by_circle' is not defined"
     ]
    }
   ],
   "source": [
    "radius = 2\n",
    "colour = 'red'\n",
    "thickness = -1\n",
    "for i in range(len(actual_coordinates)):\n",
    "    image = occlude_keypoint_by_circle(image, actual_coordinates, i, radius, color, thickness)\n",
    "\n",
    "plt.imshow(image)\n",
    "plt.show() "
   ]
  }
 ],
 "metadata": {
  "kernelspec": {
   "display_name": "Python 3 (ipykernel)",
   "language": "python",
   "name": "python3"
  },
  "language_info": {
   "codemirror_mode": {
    "name": "ipython",
    "version": 3
   },
   "file_extension": ".py",
   "mimetype": "text/x-python",
   "name": "python",
   "nbconvert_exporter": "python",
   "pygments_lexer": "ipython3",
   "version": "3.9.12"
  }
 },
 "nbformat": 4,
 "nbformat_minor": 5
}
