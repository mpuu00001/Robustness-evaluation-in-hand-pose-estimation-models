{
 "cells": [
  {
   "cell_type": "code",
   "execution_count": 7,
   "id": "265d6a0f",
   "metadata": {},
   "outputs": [],
   "source": [
    "import cv2\n",
    "import json\n",
    "import math\n",
    "import csv  \n",
    "import numpy as np\n",
    "import mediapipe as mp\n",
    "from matplotlib import pyplot as plt"
   ]
  },
  {
   "cell_type": "markdown",
   "id": "7e5b17a3",
   "metadata": {},
   "source": [
    "# Initializing model "
   ]
  },
  {
   "cell_type": "code",
   "execution_count": 8,
   "id": "e1f60d07",
   "metadata": {},
   "outputs": [],
   "source": [
    "mp_drawing = mp.solutions.drawing_utils\n",
    "mp_drawing_styles = mp.solutions.drawing_styles\n",
    "mp_hands = mp.solutions.hands"
   ]
  },
  {
   "cell_type": "markdown",
   "id": "20bee8cd",
   "metadata": {},
   "source": [
    "# Create useful functions"
   ]
  },
  {
   "cell_type": "code",
   "execution_count": 52,
   "id": "5cf73bcc",
   "metadata": {},
   "outputs": [],
   "source": [
    "def get_predicted_hand_landmarks(results, image, includes_z=False):\n",
    "    \"\"\"\n",
    "    Get hand landmark from image space\n",
    "    \"\"\"\n",
    "    coordinates = []\n",
    "    image_height, image_width, _ = image.shape\n",
    "    for hand_no, hand_landmarks in enumerate(results.multi_hand_landmarks):\n",
    "        for i in range(len(mp_hands.HandLandmark)):\n",
    "            coordinate = [hand_landmarks.landmark[mp_hands.HandLandmark(i).value].x * image_width,\n",
    "                          hand_landmarks.landmark[mp_hands.HandLandmark(i).value].y * image_height]\n",
    "            if includes_z:\n",
    "                coordinate.append(hand_landmarks.landmark[mp_hands.HandLandmark(i).value].z)\n",
    "\n",
    "            coordinates.append(coordinate)\n",
    "    return coordinates\n",
    "\n",
    "def draw_predicted_hand_landmarks(results, image):\n",
    "    \"\"\"\n",
    "    Draw hand landmarks on the image.\n",
    "    \"\"\"\n",
    "    for hand_landmarks in results.multi_hand_landmarks:\n",
    "        mp_drawing.draw_landmarks(\n",
    "            image,\n",
    "            hand_landmarks,\n",
    "            mp_hands.HAND_CONNECTIONS)\n",
    "    return image\n",
    "\n",
    "def get_bbox_coordinates_mediapipe(results, image):\n",
    "    \"\"\"\n",
    "    Get bounding box coordinates for a predicted hand landmark.\n",
    "    Args:\n",
    "        results: A HandLandmark object.\n",
    "    Returns:\n",
    "        A tuple of the form (xmin, ymin, xmax, ymax).\n",
    "    \"\"\"\n",
    "    all_x, all_y = [], []  \n",
    "    image_height, image_width, _ = image.shape\n",
    "    for hand_no, hand_landmarks in enumerate(results.multi_hand_landmarks):\n",
    "        for i in mp_hands.HandLandmark:\n",
    "            all_x.append(int(hand_landmarks.landmark[i].x * image_width))  \n",
    "            all_y.append(int(hand_landmarks.landmark[i].y * image_height))          \n",
    "    return min(all_x), min(all_y), max(all_x), max(all_y)     \n",
    "\n",
    "def get_bbox_coordinates(coordinates):\n",
    "    \"\"\"\n",
    "    Get bounding box coordinates for a actual hand landmark.\n",
    "    Args:\n",
    "        coordinates: A array of coordinates for a signle picture.\n",
    "    Returns:\n",
    "        A tuple of the form (xmin, ymin, xmax, ymax).\n",
    "    \"\"\"\n",
    "    all_x, all_y = [], []  \n",
    "    for coordinate in coordinates: \n",
    "        all_x.append(coordinate[0])\n",
    "        all_y.append(coordinate[1])\n",
    "    return min(all_x), min(all_y), max(all_x), max(all_y)  \n",
    "\n",
    "def draw_bbox(results, image, extend, colour, is_predicted, coordinates=None):\n",
    "    if is_predicted: \n",
    "        x_min, y_min, x_max, y_max = get_bbox_coordinates_mediapipe(results, image)\n",
    "    else: \n",
    "        x_min, y_min, x_max, y_max = get_bbox_coordinates(coordinates)\n",
    "    cv2.rectangle(image, (x_min - extend, y_min - extend), (x_max + extend, y_max + extend), colour, 1)    \n",
    "    return image\n",
    "    \n",
    "\n",
    "def projectPoints(xyz, K):\n",
    "    \"\"\" Project 3D coordinates provided by the hands dataset into image space. \"\"\"\n",
    "    xyz = np.array(xyz)\n",
    "    K = np.array(K)\n",
    "    uv = np.matmul(K, xyz.T).T\n",
    "    return uv[:, :2] / uv[:, -1:]\n",
    "\n",
    "\n",
    "def get_image_index(image_path):\n",
    "    filename = get_filename(image_path)\n",
    "    index = int(filename.split('.')[0])\n",
    "    return index\n",
    "\n",
    "def get_filename(image_path):\n",
    "    filename = image_path.split('/')[-1]\n",
    "    return filename\n",
    "\n",
    "def compute_euclidean_distances(pred_coordinates, actu_coordinates):\n",
    "    variances = []\n",
    "    for i in range(len(actu_coordinates)):\n",
    "        variance = math.sqrt(pow(pred_coordinates[i][0] - actu_coordinates[i][0], 2) +\n",
    "                             pow(pred_coordinates[i][1] - actu_coordinates[i][1], 2))\n",
    "#         print(variance)\n",
    "        variances.append(variance)\n",
    "    return variances\n",
    "\n",
    "def compute_intersection_over_union(boxA, boxB):\n",
    "    # determine the (x, y)-coordinates of the intersection rectangle\n",
    "    xA = max(boxA[0], boxB[0])\n",
    "    yA = max(boxA[1], boxB[1])\n",
    "    xB = min(boxA[2], boxB[2])\n",
    "    yB = min(boxA[3], boxB[3])\n",
    "    # compute the area of intersection rectangle\n",
    "    interArea = max(0, xB - xA + 1) * max(0, yB - yA + 1)\n",
    "    # compute the area of both the prediction and ground-truth\n",
    "    # rectangles\n",
    "    boxAArea = (boxA[2] - boxA[0] + 1) * (boxA[3] - boxA[1] + 1)\n",
    "    boxBArea = (boxB[2] - boxB[0] + 1) * (boxB[3] - boxB[1] + 1)\n",
    "    # compute the intersection over union by taking the intersection\n",
    "    # area and dividing it by the sum of prediction + ground-truth\n",
    "    # areas - the interesection area\n",
    "    iou = interArea / float(boxAArea + boxBArea - interArea)\n",
    "    # return the intersection over union value\n",
    "    return iou\n",
    "\n",
    "def display_world_landmarks(results):\n",
    "    for hand_world_landmarks in results.multi_hand_world_landmarks:\n",
    "        mp_drawing.plot_landmarks(\n",
    "            hand_world_landmarks, mp_hands.HAND_CONNECTIONS, azimuth=5)\n",
    "\n",
    "def append_json_data(file_path, new_data, key):\n",
    "    with open(file_path,'r+') as file:\n",
    "        content = json.load(file)\n",
    "        content[key].append(new_data)\n",
    "        file.seek(0)\n",
    "        json.dump(content, file, indent = 4)\n",
    "\n",
    "def compute_single_euclidean_distances(pred_coordinate, actu_coordinate):\n",
    "    variance = math.sqrt(pow(pred_coordinate[0] - actu_coordinate[0], 2) +\n",
    "                         pow(pred_coordinate[1] - actu_coordinate[1], 2))\n",
    "    return variance\n",
    "\n",
    "def detect_overlap(predicted_coordinates, threshold):\n",
    "    self_occluded_points = []\n",
    "    for i in range(len(predicted_coordinates)): \n",
    "        for j in range(i+1, len(predicted_coordinates)): \n",
    "            distanace = compute_single_euclidean_distances(predicted_coordinates[i], predicted_coordinates[j])\n",
    "            if distanace <= threshold and abs(i-j) != 1:\n",
    "                if abs(predicted_coordinates[i][2]) <= abs(predicted_coordinates[j][2]):\n",
    "                    self_occluded_points.append(i) if not i in self_occluded_points else None\n",
    "                else: \n",
    "                    self_occluded_points.append(j) if not j in self_occluded_points else None\n",
    "    return self_occluded_points"
   ]
  },
  {
   "cell_type": "markdown",
   "id": "c2c194b2",
   "metadata": {},
   "source": [
    "# Read files "
   ]
  },
  {
   "cell_type": "code",
   "execution_count": 12,
   "id": "86780932",
   "metadata": {},
   "outputs": [],
   "source": [
    "dataset_dir = '/Users/muxin/PyCharm/organised_FreiHAND/'"
   ]
  },
  {
   "cell_type": "code",
   "execution_count": 13,
   "id": "80c86cc1",
   "metadata": {},
   "outputs": [],
   "source": [
    "with open(f'{dataset_dir}/training_xyz.json') as xyz_fp, open(f'{dataset_dir}/training_K.json') as K_fp:\n",
    "    actu_xyz_array = json.load(xyz_fp)\n",
    "    K_array = json.load(K_fp)"
   ]
  },
  {
   "cell_type": "markdown",
   "id": "825e792b",
   "metadata": {},
   "source": [
    "# Perform hands landmarks detection"
   ]
  },
  {
   "cell_type": "code",
   "execution_count": 86,
   "id": "111633eb",
   "metadata": {},
   "outputs": [
    {
     "data": {
      "image/png": "[encoded data removed]",
      "text/plain": [
       "<Figure size 432x288 with 1 Axes>"
      ]
     },
     "metadata": {
      "needs_background": "light"
     },
     "output_type": "display_data"
    }
   ],
   "source": [
    "image_path = '/Users/muxin/PyCharm/ASL/ASL_letters/oh_d.jpeg'#dataset_dir + '/00007915.jpg'\n",
    "\n",
    "# Read an image, flip it around y-axis for correct handedness output (see above).\n",
    "image = cv2.imread(image_path) #cv2.flip(cv2.imread(file), 1)\n",
    "image = cv2.resize(image, (224, 224), interpolation = cv2.INTER_AREA)\n",
    "\n",
    "\n",
    "mp_model =  mp_hands.Hands(\n",
    "        static_image_mode=True,\n",
    "        max_num_hands=2,\n",
    "        min_detection_confidence=0.5) \n",
    "\n",
    "\n",
    "# Convert the BGR image to RGB before processing.\n",
    "results = mp_model.process(cv2.cvtColor(image, cv2.COLOR_BGR2RGB))\n",
    "pred_coordinates = []\n",
    "if  results.multi_hand_landmarks:    \n",
    "    pred_coordinates = get_predicted_hand_landmarks(results, image.copy(), True)\n",
    "    annotated_image = draw_predicted_hand_landmarks(results, image.copy())\n",
    "    annotated_image = draw_bbox(results, annotated_image.copy(), 0, (0, 255, 0), True)\n",
    "    #annotated_image = draw_bbox(results, annotated_image.copy(), 0, (255, 0, 0), False, actu_coordinates)\n",
    "\n",
    "    plt.imshow(annotated_image)\n",
    "    plt.show() \n",
    "\n",
    "self_occluded_points = detect_overlap(pred_coordinates, 11.3386)\n",
    "self_occluded_points"
   ]
  }
 ],
 "metadata": {
  "kernelspec": {
   "display_name": "Python 3 (ipykernel)",
   "language": "python",
   "name": "python3"
  },
  "language_info": {
   "codemirror_mode": {
    "name": "ipython",
    "version": 3
   },
   "file_extension": ".py",
   "mimetype": "text/x-python",
   "name": "python",
   "nbconvert_exporter": "python",
   "pygments_lexer": "ipython3",
   "version": "3.9.12"
  }
 },
 "nbformat": 4,
 "nbformat_minor": 5
}
