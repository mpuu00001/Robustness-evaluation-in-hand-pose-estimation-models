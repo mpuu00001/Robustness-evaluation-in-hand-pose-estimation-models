{
 "cells": [
  {
   "cell_type": "code",
   "execution_count": 2,
   "id": "7c0a2d36",
   "metadata": {},
   "outputs": [],
   "source": [
    "import pandas as pd\n",
    "import numpy as np\n",
    "import matplotlib.pyplot as pyplot\n",
    "import sklearn.metrics"
   ]
  },
  {
   "cell_type": "markdown",
   "id": "055da1a8",
   "metadata": {},
   "source": [
    "# Useful Functions "
   ]
  },
  {
   "cell_type": "code",
   "execution_count": 1,
   "id": "30e559e5",
   "metadata": {},
   "outputs": [],
   "source": [
    "def form_confusion_matrix_for_hand_recognition_results(df, colum, threshold, is_hand_recognise):\n",
    "    new_df = df[[\"filename\", colum]]\n",
    "    new_df['hand_recognise_result'] = new_df.apply (lambda row: compute_prediction_result(row, colum, threshold, is_hand_recognise), axis=1)\n",
    "    confusion_matrix = new_df['hand_recognise_result'].value_counts().rename_axis('label').reset_index(name='counts')\n",
    "    return confusion_matrix\n",
    "\n",
    "def form_confusion_matrix_for_hand_landmark_localisation_results(df, droped_colums, threshold, group_by = None):\n",
    "    new_df = df.drop(droped_colums, axis=1)   \n",
    "    new_df = tabulate_hand_localisation_result(new_df, 'keypoint_error', 'keypoint_prediction_result', threshold)\n",
    "    if group_by == 'keypoints':\n",
    "        confusion_matrix = group_confusion_matrix_by_keypoint(new_df, 'keypoint_prediction_result')\n",
    "    else: \n",
    "        confusion_matrix = new_df.drop(['filename'], axis=1).stack().value_counts().to_frame()\n",
    "        confusion_matrix.rename({0: 'counts'}, axis=1, inplace=True)\n",
    "    return confusion_matrix\n",
    "\n",
    "def compute_prediction_result (row, column, threshold, is_hand_recognise):\n",
    "   if float(row[column]) > threshold[1]:\n",
    "      return 'TP' if is_hand_recognise else 'FP'\n",
    "   elif float(row[column]) <= threshold[1] and float(row[column]) > threshold[0]:\n",
    "      return 'FP' if is_hand_recognise else 'TP'\n",
    "   else: \n",
    "       return 'FN'\n",
    "\n",
    "def precision_recall_curve_from(y_true, pred_iou, thresholds, is_hand_recognise):\n",
    "    precisions = []\n",
    "    recalls = []\n",
    "    \n",
    "    for threshold in thresholds:\n",
    "        if is_hand_recognise: \n",
    "            y_pred = [\"positive\" if float(iou) > threshold else \"negative\" for iou in pred_iou]\n",
    "        else: \n",
    "            y_pred = [\"positive\" if float(error) <= threshold and float(error) > -1 else \"negative\" for error in pred_error]\n",
    "\n",
    "        precision = sklearn.metrics.precision_score(y_true=y_true, y_pred=y_pred, pos_label=\"positive\", average='micro')\n",
    "        recall = sklearn.metrics.recall_score(y_true=y_true, y_pred=y_pred, pos_label=\"positive\", average='micro')\n",
    "        \n",
    "        precisions.append(precision)\n",
    "        recalls.append(recall)\n",
    "\n",
    "    return precisions, recalls\n",
    "\n",
    "def compute_evaluation_metric(confusion_matrix):\n",
    "    TP = confusion_matrix['counts'][0]\n",
    "    FN = confusion_matrix['counts'][1]\n",
    "    FP = confusion_matrix['counts'][2]\n",
    "\n",
    "    precision = TP / ( TP + FP)\n",
    "    recall = TP / (TP + FN)\n",
    "    f1_score = 2 * (precision * recall) / (precision + recall)\n",
    "    return precision, recall, f1_score\n",
    "\n",
    "def group_confusion_matrix_by_keypoint(source_df, col_prefix):\n",
    "    confusion_matrices = []\n",
    "    for i in range(21):\n",
    "        column = col_prefix + \"_\" + str(i)\n",
    "        new_confusion_matrix = source_df[column].value_counts().rename_axis('label').reset_index(name='counts')\n",
    "        confusion_matrices.append(new_confusion_matrix)\n",
    "    return confusion_matrices\n",
    "\n",
    "def tabulate_hand_localisation_result(source_df, col_prefix, new_col_prefix, threshold):\n",
    "    result_df = source_df[['filename']]\n",
    "    for i in range(21):\n",
    "        column = col_prefix + \"_\" + str(i)\n",
    "        new_column = new_col_prefix + \"_\" + str(i)\n",
    "        result_df[new_column] = source_df.apply (lambda row: compute_prediction_result(row, column, threshold, False), axis=1)\n",
    "    return result_df\n",
    "\n",
    "def tabulate_evaluation_metric_by_keypoint(confusion_matrices):\n",
    "    precisions = []\n",
    "    recalls = []\n",
    "    f1_scores = []\n",
    "    for i in range(21):\n",
    "        precision, recall, f1_score = compute_evaluation_metric(confusion_matrices[i])\n",
    "        precisions.append(precision)\n",
    "        recalls.append(recall)\n",
    "        f1_scores.append(f1_score)\n",
    "    result = {\n",
    "        'keypoint' : range(21),\n",
    "        'precision' : precisions,\n",
    "        'recall' : recalls,\n",
    "        'f1_score' : f1_scores\n",
    "    }\n",
    "    return pd.DataFrame(result)\n",
    "\n",
    "def write_to_csv(dataframe, filename):\n",
    "    dataframe.to_csv(filename, encoding='utf-8')"
   ]
  },
  {
   "cell_type": "markdown",
   "id": "42a58a4f",
   "metadata": {},
   "source": [
    "# Read Data"
   ]
  },
  {
   "cell_type": "code",
   "execution_count": 4,
   "id": "7f893f53",
   "metadata": {},
   "outputs": [],
   "source": [
    "folder_path = '/Users/muxin/PyCharm/mediapipe_hand_prediction/results/baseline/'\n",
    "nh_df = pd.read_csv(f'{folder_path}naked_hands_prediction_result.csv')\n",
    "oh_df = pd.read_csv(f'{folder_path}objects_with_hands_prediction_result.csv')"
   ]
  }
 ],
 "metadata": {
  "kernelspec": {
   "display_name": "Python 3 (ipykernel)",
   "language": "python",
   "name": "python3"
  },
  "language_info": {
   "codemirror_mode": {
    "name": "ipython",
    "version": 3
   },
   "file_extension": ".py",
   "mimetype": "text/x-python",
   "name": "python",
   "nbconvert_exporter": "python",
   "pygments_lexer": "ipython3",
   "version": "3.9.12"
  }
 },
 "nbformat": 4,
 "nbformat_minor": 5
}
