{
 "cells": [
  {
   "cell_type": "code",
   "execution_count": 1,
   "id": "265d6a0f",
   "metadata": {},
   "outputs": [],
   "source": [
    "import cv2\n",
    "import json\n",
    "import math\n",
    "import csv  \n",
    "import numpy as np\n",
    "import mediapipe as mp\n",
    "from matplotlib import pyplot as plt"
   ]
  },
  {
   "cell_type": "markdown",
   "id": "7e5b17a3",
   "metadata": {},
   "source": [
    "# Initializing model "
   ]
  },
  {
   "cell_type": "code",
   "execution_count": 2,
   "id": "e1f60d07",
   "metadata": {},
   "outputs": [],
   "source": [
    "mp_drawing = mp.solutions.drawing_utils\n",
    "mp_drawing_styles = mp.solutions.drawing_styles\n",
    "mp_hands = mp.solutions.hands"
   ]
  },
  {
   "cell_type": "markdown",
   "id": "20bee8cd",
   "metadata": {},
   "source": [
    "# Create useful functions"
   ]
  },
  {
   "cell_type": "code",
   "execution_count": 3,
   "id": "5cf73bcc",
   "metadata": {},
   "outputs": [],
   "source": [
    "def get_predicted_hand_landmarks(results, image, includes_z=False):\n",
    "    \"\"\"\n",
    "    Get hand landmark from image space\n",
    "    \"\"\"\n",
    "    coordinates = []\n",
    "    image_height, image_width, _ = image.shape\n",
    "    for hand_no, hand_landmarks in enumerate(results.multi_hand_landmarks):\n",
    "        for i in range(len(mp_hands.HandLandmark)):\n",
    "            coordinate = [hand_landmarks.landmark[mp_hands.HandLandmark(i).value].x * image_width,\n",
    "                          hand_landmarks.landmark[mp_hands.HandLandmark(i).value].y * image_height]\n",
    "            if includes_z:\n",
    "                coordinate.append(hand_landmarks.landmark[mp_hands.HandLandmark(i).value].z)\n",
    "\n",
    "            coordinates.append(coordinate)\n",
    "    return coordinates\n",
    "\n",
    "\n",
    "def draw_predicted_hand_landmarks(results, image):\n",
    "    \"\"\"\n",
    "    Draw hand landmarks on the image.\n",
    "    \"\"\"\n",
    "    for hand_landmarks in results.multi_hand_landmarks:\n",
    "        mp_drawing.draw_landmarks(\n",
    "            image,\n",
    "            hand_landmarks,\n",
    "            mp_hands.HAND_CONNECTIONS)\n",
    "    return image\n",
    "\n",
    "\n",
    "def get_bbox_coordinates_mediapipe(results, image):\n",
    "    \"\"\"\n",
    "    Get bounding box coordinates for a predicted hand landmark.\n",
    "    \"\"\"\n",
    "    all_x, all_y = [], []\n",
    "    image_height, image_width, _ = image.shape\n",
    "    for hand_no, hand_landmarks in enumerate(results.multi_hand_landmarks):\n",
    "        for i in mp_hands.HandLandmark:\n",
    "            all_x.append(int(hand_landmarks.landmark[i].x * image_width))\n",
    "            all_y.append(int(hand_landmarks.landmark[i].y * image_height))\n",
    "    return min(all_x), min(all_y), max(all_x), max(all_y)\n",
    "\n",
    "\n",
    "def get_bbox_coordinates(coordinates):\n",
    "    \"\"\"\n",
    "    Get bounding box coordinates for a actual hand landmark.\n",
    "    \"\"\"\n",
    "    all_x, all_y = [], []\n",
    "    for coordinate in coordinates:\n",
    "        all_x.append(coordinate[0])\n",
    "        all_y.append(coordinate[1])\n",
    "    return min(all_x), min(all_y), max(all_x), max(all_y)\n",
    "\n",
    "\n",
    "def draw_bbox(results, image, extend, colour, is_predicted, coordinates=None):\n",
    "    if is_predicted:\n",
    "        x_min, y_min, x_max, y_max = get_bbox_coordinates_mediapipe(results, image)\n",
    "    else:\n",
    "        x_min, y_min, x_max, y_max = get_bbox_coordinates(coordinates)\n",
    "    cv2.rectangle(image, (x_min - extend, y_min - extend), (x_max + extend, y_max + extend), colour, 1)\n",
    "    return image\n",
    "\n",
    "\n",
    "def projectPoints(xyz, K):\n",
    "    \"\"\" Project 3D coordinates provided by the hands dataset into image space. \"\"\"\n",
    "    xyz = np.array(xyz)\n",
    "    K = np.array(K)\n",
    "    uv = np.matmul(K, xyz.T).T\n",
    "    return uv[:, :2] / uv[:, -1:]\n",
    "\n",
    "\n",
    "def display_world_landmarks(results):\n",
    "    for hand_world_landmarks in results.multi_hand_world_landmarks:\n",
    "        mp_drawing.plot_landmarks(\n",
    "            hand_world_landmarks, mp_hands.HAND_CONNECTIONS, azimuth=5)\n",
    "\n",
    "\n",
    "def get_image_index(image_path):\n",
    "    filename = get_filename(image_path)\n",
    "    index = int(filename.split('.')[0])\n",
    "    return index\n",
    "\n",
    "\n",
    "def get_filename(image_path):\n",
    "    filename = image_path.split('/')[-1]\n",
    "    return filename\n",
    "\n",
    "\n",
    "def compute_euclidean_distances(pred_coordinates, actu_coordinates):\n",
    "    variances = []\n",
    "    for i in range(len(actu_coordinates)):\n",
    "        variance = compute_single_euclidean_distances(pred_coordinates[i], actu_coordinates[i])\n",
    "        variances.append(variance)\n",
    "    return variances\n",
    "\n",
    "\n",
    "def compute_single_euclidean_distances(pred_coordinate, actu_coordinate):\n",
    "    variance = math.sqrt(pow(pred_coordinate[0] - actu_coordinate[0], 2) +\n",
    "                         pow(pred_coordinate[1] - actu_coordinate[1], 2))\n",
    "    return variance\n",
    "\n",
    "\n",
    "def compute_intersection_over_union(boxA, boxB):\n",
    "    # determine the (x, y)-coordinates of the intersection rectangle\n",
    "    xA = max(boxA[0], boxB[0])\n",
    "    yA = max(boxA[1], boxB[1])\n",
    "    xB = min(boxA[2], boxB[2])\n",
    "    yB = min(boxA[3], boxB[3])\n",
    "    # compute the area of intersection rectangle\n",
    "    interArea = max(0, xB - xA + 1) * max(0, yB - yA + 1)\n",
    "    # compute the area of both the prediction and ground-truth\n",
    "    # rectangles\n",
    "    boxAArea = (boxA[2] - boxA[0] + 1) * (boxA[3] - boxA[1] + 1)\n",
    "    boxBArea = (boxB[2] - boxB[0] + 1) * (boxB[3] - boxB[1] + 1)\n",
    "    # compute the intersection over union by taking the intersection\n",
    "    # area and dividing it by the sum of prediction + ground-truth\n",
    "    # areas - the interesection area\n",
    "    iou = interArea / float(boxAArea + boxBArea - interArea)\n",
    "    # return the intersection over union value\n",
    "    return iou\n",
    "\n",
    "\n",
    "def format_csv_result():\n",
    "    header = ['filename', 'iou', 'mean_keypoint_error']\n",
    "    for i in range(21):\n",
    "        header.append(\"keypoint_error_\" + str(i))\n",
    "    return header\n",
    "\n",
    "\n",
    "def tabulate_csv_result(filename, iou, coordinates_variances):\n",
    "    coordinates_mean_error = sum(coordinates_variances) / len(coordinates_variances)\n",
    "    data = [filename, iou, coordinates_mean_error]\n",
    "    for each in coordinates_variances:\n",
    "        data.append(each)\n",
    "    return data\n",
    "\n",
    "\n",
    "def write_csv_data(file_path, new_data, mode):\n",
    "    with open(file_path, mode) as file:\n",
    "        writer = csv.writer(file)\n",
    "        writer.writerow(new_data)\n",
    "\n",
    "\n",
    "def read_json_data(file_path):\n",
    "    with open(file_path) as file:\n",
    "        content = json.load(file)\n",
    "    return content\n",
    "\n",
    "\n",
    "def write_json_data(file_path, new_data, mode, key=None):\n",
    "    if mode == 'w':\n",
    "        with open(file_path, 'w') as file:\n",
    "            json.dump(new_data, file)\n",
    "    else:\n",
    "        with open(file_path, 'r+') as file:\n",
    "            content = json.load(file)\n",
    "            content[key].append(new_data)\n",
    "            file.seek(0)\n",
    "            json.dump(content, file, indent=4)\n",
    "\n",
    "\n",
    "def write_txt_file(file_path, new_data, mode):\n",
    "    with open(file_path, mode) as file:\n",
    "        file.write(new_data)"
   ]
  },
  {
   "cell_type": "markdown",
   "id": "c2c194b2",
   "metadata": {},
   "source": [
    "# Read files "
   ]
  },
  {
   "cell_type": "code",
   "execution_count": 5,
   "id": "80c86cc1",
   "metadata": {},
   "outputs": [],
   "source": [
    "dataset_dir = '/Users/muxin/PyCharm/FreiHAND/'\n",
    "with open(f'{dataset_dir}/training_xyz.json') as xyz_fp, open(f'{dataset_dir}/training_K.json') as K_fp:\n",
    "    actu_xyz_array = json.load(xyz_fp)\n",
    "    K_array = json.load(K_fp)"
   ]
  },
  {
   "cell_type": "markdown",
   "id": "825e792b",
   "metadata": {},
   "source": [
    "# Perform hands landmarks detection"
   ]
  },
  {
   "cell_type": "code",
   "execution_count": 4,
   "id": "02e65196",
   "metadata": {},
   "outputs": [
    {
     "name": "stderr",
     "output_type": "stream",
     "text": [
      "INFO: Created TensorFlow Lite XNNPACK delegate for CPU.\n"
     ]
    }
   ],
   "source": [
    "mp_model =  mp_hands.Hands(\n",
    "        static_image_mode=True,\n",
    "        max_num_hands=2,\n",
    "        min_detection_confidence=0.5) "
   ]
  },
  {
   "cell_type": "code",
   "execution_count": 44,
   "id": "0cd67e4b",
   "metadata": {},
   "outputs": [
    {
     "name": "stdout",
     "output_type": "stream",
     "text": [
      "feed_size: (244, 244)\n",
      "ori_size: (193, 193)\n"
     ]
    }
   ],
   "source": [
    "dataset_dir = r'/Users/muxin/PyCharm/CMUhand'\n",
    "index = 13326\n",
    "image_path = f'{dataset_dir}/original/hands_with_objects/{index:08d}.jpg'#/00000001.jpg'\n",
    "ori_image_path = f'{dataset_dir}/original/ori_hands_with_objects/{index:08d}.jpg'\n",
    "filename = f'{index:08d}.jpg'\n",
    "\n",
    "image = cv2.imread(image_path) #cv2.flip(cv2.imread(file), 1)\n",
    "ori_image = cv2.imread(ori_image_path)\n",
    "ori_size = ori_image.shape[:-1]\n",
    "\n",
    "feed_size = (244, 244)\n",
    "image = cv2.resize(image, feed_size, interpolation = cv2.INTER_AREA)\n",
    "feed_size = image.shape[:-1]\n",
    "\n",
    "print('feed_size: ' + str(feed_size))\n",
    "print('ori_size: ' + str(ori_size))"
   ]
  },
  {
   "cell_type": "markdown",
   "id": "7fdbb738",
   "metadata": {},
   "source": [
    "# HandDB"
   ]
  },
  {
   "cell_type": "code",
   "execution_count": 169,
   "id": "33d92960",
   "metadata": {},
   "outputs": [],
   "source": [
    "baseline_dir = r'/Users/muxin/PyCharm/HandDB/xyz'\n",
    "baseline = read_json_data(baseline_dir + f'/{filename[:-4]}.json')\n",
    "actual_coordinates = [[coordinate[i] for i in range(2)] for coordinate in baseline['hand_pts']]"
   ]
  },
  {
   "cell_type": "markdown",
   "id": "40b098fc",
   "metadata": {},
   "source": [
    "# CMUhand"
   ]
  },
  {
   "cell_type": "code",
   "execution_count": 45,
   "id": "89590832",
   "metadata": {},
   "outputs": [
    {
     "name": "stdout",
     "output_type": "stream",
     "text": [
      "00013326.jpg\n"
     ]
    },
    {
     "data": {
      "text/plain": [
       "[[52.57139999999981, 83.92789999999991],\n",
       " [63.59739999999988, 91.67689999999993],\n",
       " [89.33239999999978, 101.93589999999995],\n",
       " [109.07239999999979, 106.4819],\n",
       " [122.70739999999978, 113.26289999999995],\n",
       " [108.80439999999976, 79.5148999999999],\n",
       " [133.8893999999998, 89.59789999999998],\n",
       " [140.09039999999982, 102.72189999999989],\n",
       " [140.19039999999973, 111.66789999999992],\n",
       " [108.81939999999986, 77.45089999999993],\n",
       " [127.46739999999977, 98.9088999999999],\n",
       " [118.87839999999983, 112.07489999999996],\n",
       " [108.76139999999987, 115.31089999999995],\n",
       " [105.13039999999978, 79.15289999999993],\n",
       " [117.17639999999983, 101.45089999999993],\n",
       " [107.52239999999983, 112.12289999999996],\n",
       " [97.97839999999974, 114.00289999999995],\n",
       " [99.68939999999975, 82.86489999999992],\n",
       " [106.08939999999984, 102.45189999999991],\n",
       " [98.28239999999983, 110.30089999999996],\n",
       " [89.91739999999982, 112.62689999999998]]"
      ]
     },
     "execution_count": 45,
     "metadata": {},
     "output_type": "execute_result"
    }
   ],
   "source": [
    "# Original ground truth cooridnates \n",
    "dataset_dir = r'/Users/muxin/PyCharm/CMUhand'\n",
    "actual_coordinate_array = read_json_data(f'{dataset_dir}/labels.json')\n",
    "print(filename)\n",
    "actual_coordinates_ori = actual_coordinate_array[filename]\n",
    "actual_coordinates_unify = [[point[0] / ori_size[0] * feed_size[0], point[1] / ori_size[1] * feed_size[1]] for point in\n",
    "                            actual_coordinates_ori]\n",
    "actual_coordinates_ori"
   ]
  },
  {
   "cell_type": "code",
   "execution_count": 52,
   "id": "52f3dd50",
   "metadata": {},
   "outputs": [
    {
     "name": "stdout",
     "output_type": "stream",
     "text": [
      "True\n"
     ]
    },
    {
     "data": {
      "text/plain": [
       "[[66.46332435233137, 106.10573886010351],\n",
       " [80.40293056994803, 115.90240207253876],\n",
       " [112.93837098445567, 128.87232953367868],\n",
       " [137.8946404145075, 134.6196041450777],\n",
       " [155.1326715025904, 143.1924746113989],\n",
       " [137.55582176165774, 100.52660932642475],\n",
       " [169.26950051813446, 113.27402901554402],\n",
       " [177.10910673575108, 129.86602901554392],\n",
       " [177.23553160621728, 141.17599792746103],\n",
       " [137.5747854922278, 97.91719999999992],\n",
       " [161.15049533678726, 125.0454487046631],\n",
       " [150.29186321243503, 141.69054715025902],\n",
       " [137.50145906735736, 145.78165595854915],\n",
       " [132.9109720207251, 100.0689512953367],\n",
       " [148.14011191709824, 128.25916891191702],\n",
       " [135.9350549222796, 141.75123108808285],\n",
       " [123.86906528497377, 144.12801865284968],\n",
       " [126.03219481865254, 104.76184248704654],\n",
       " [134.1233865284972, 129.52468186528486],\n",
       " [124.25339689119147, 139.44776994818648],\n",
       " [113.6779564766837, 142.38841243523314]]"
      ]
     },
     "execution_count": 52,
     "metadata": {},
     "output_type": "execute_result"
    }
   ],
   "source": [
    "# Adjust ground truth cooridnates \n",
    "dataset_dir = r'/Users/muxin/PyCharm/CMUhand/xyz'\n",
    "actual_coordinates = read_json_data(dataset_dir + f'/{filename[:-4]}.json')['hand_pts']\n",
    "print(actual_coordinates_unify == actual_coordinates)\n",
    "actual_coordinates"
   ]
  },
  {
   "cell_type": "code",
   "execution_count": 47,
   "id": "111633eb",
   "metadata": {},
   "outputs": [
    {
     "data": {
      "image/png": "[encoded data removed]",
      "text/plain": [
       "<Figure size 432x288 with 1 Axes>"
      ]
     },
     "metadata": {
      "needs_background": "light"
     },
     "output_type": "display_data"
    }
   ],
   "source": [
    "# Convert the BGR image to RGB before processing.\n",
    "results = mp_model.process(cv2.cvtColor(image, cv2.COLOR_BGR2RGB))\n",
    "pred_coordinates = []\n",
    "if  results.multi_hand_landmarks:    \n",
    "    pred_coordinates = get_predicted_hand_landmarks(results, image.copy(), True)\n",
    "    annotated_image = draw_predicted_hand_landmarks(results, image.copy())\n",
    "    annotated_image = draw_bbox(results, annotated_image.copy(), 0, (0, 255, 0), True)\n",
    "    \n",
    "    actual_coordinates_int = [[int(coordinate[i]) for i in range(2)] for coordinate in actual_coordinates]\n",
    "    annotated_image = draw_bbox(results, annotated_image.copy(), 0, (0, 0, 0), False, actual_coordinates_int)\n",
    "\n",
    "    plt.imshow(annotated_image)\n",
    "    plt.show() "
   ]
  },
  {
   "cell_type": "code",
   "execution_count": 48,
   "id": "af99e2e4",
   "metadata": {},
   "outputs": [
    {
     "data": {
      "text/plain": [
       "(193, 193)"
      ]
     },
     "execution_count": 48,
     "metadata": {},
     "output_type": "execute_result"
    }
   ],
   "source": [
    "ori_size"
   ]
  },
  {
   "cell_type": "code",
   "execution_count": 49,
   "id": "3cdf123d",
   "metadata": {},
   "outputs": [
    {
     "data": {
      "text/plain": [
       "(244, 244)"
      ]
     },
     "execution_count": 49,
     "metadata": {},
     "output_type": "execute_result"
    }
   ],
   "source": [
    "feed_size "
   ]
  },
  {
   "cell_type": "code",
   "execution_count": 50,
   "id": "60811f74",
   "metadata": {},
   "outputs": [
    {
     "data": {
      "text/plain": [
       "0.8129305608111462"
      ]
     },
     "execution_count": 50,
     "metadata": {},
     "output_type": "execute_result"
    }
   ],
   "source": [
    " # Project predicted 3D coordinates into 2D image space\n",
    "predicted_coordinates = get_predicted_hand_landmarks(results, image)\n",
    "\n",
    "# Compute the area of both the prediction and ground-truth rectangles\n",
    "predicted_bbox = get_bbox_coordinates(predicted_coordinates)\n",
    "actual_bbox = get_bbox_coordinates(actual_coordinates)\n",
    "\n",
    "# compute intersection over union between the prediction and ground-truth rectangles\n",
    "iou = compute_intersection_over_union(predicted_bbox, actual_bbox)\n",
    "# Compute euclidean distances between the prediction and ground-truth hand landmarks\n",
    "coordinates_variances = compute_euclidean_distances(predicted_coordinates, actual_coordinates)\n",
    "iou"
   ]
  },
  {
   "cell_type": "code",
   "execution_count": 22,
   "id": "3be69a1b",
   "metadata": {},
   "outputs": [
    {
     "data": {
      "text/plain": [
       "(72.13977932929993, 62.83926248550415, 124.97547602653503, 151.77786993980408)"
      ]
     },
     "execution_count": 22,
     "metadata": {},
     "output_type": "execute_result"
    }
   ],
   "source": [
    "predicted_bbox"
   ]
  },
  {
   "cell_type": "code",
   "execution_count": 23,
   "id": "36b5ed36",
   "metadata": {},
   "outputs": [
    {
     "data": {
      "text/plain": [
       "(33.27839999999992, 37.73239999999987, 88.74239999999986, 84.28839999999991)"
      ]
     },
     "execution_count": 23,
     "metadata": {},
     "output_type": "execute_result"
    }
   ],
   "source": [
    "actual_bbox"
   ]
  },
  {
   "cell_type": "code",
   "execution_count": 26,
   "id": "0b1c3b50",
   "metadata": {},
   "outputs": [
    {
     "data": {
      "text/plain": [
       "[[82.85553467273712, 151.77786993980408],\n",
       " [104.71322906017303, 128.1452100276947],\n",
       " [115.09214162826538, 105.07864987850189],\n",
       " [119.79414594173431, 88.77236759662628],\n",
       " [123.62845396995544, 80.14028608798981],\n",
       " [93.03432822227478, 87.23803210258484],\n",
       " [92.44672584533691, 62.83926248550415],\n",
       " [110.46643996238708, 69.22750949859619],\n",
       " [124.97547602653503, 81.18419909477234],\n",
       " [82.3784122467041, 101.07152104377747],\n",
       " [80.44282793998718, 81.79302775859833],\n",
       " [103.3404940366745, 91.38441526889801],\n",
       " [118.68922281265259, 103.05795681476593],\n",
       " [75.33337926864624, 120.17770254611969],\n",
       " [73.83664608001709, 109.9443998336792],\n",
       " [96.76087594032288, 116.57236790657043],\n",
       " [113.20681250095367, 123.34786558151245],\n",
       " [72.13977932929993, 142.1520869731903],\n",
       " [72.41750264167786, 142.85707020759583],\n",
       " [88.44902849197388, 145.8387999534607],\n",
       " [101.58729290962219, 148.76286458969116]]"
      ]
     },
     "execution_count": 26,
     "metadata": {},
     "output_type": "execute_result"
    }
   ],
   "source": [
    "predicted_coordinates"
   ]
  },
  {
   "cell_type": "code",
   "execution_count": 27,
   "id": "44f50a94",
   "metadata": {},
   "outputs": [
    {
     "data": {
      "text/plain": [
       "[[94.54479999999967, 168.57679999999982],\n",
       " [124.9348, 147.6107999999997],\n",
       " [156.3547999999996, 122.92479999999978],\n",
       " [173.5087999999996, 123.67479999999978],\n",
       " [177.48479999999972, 134.0447999999999],\n",
       " [101.26279999999997, 93.11279999999988],\n",
       " [97.58479999999963, 75.46479999999974],\n",
       " [112.46879999999965, 80.61479999999983],\n",
       " [126.96879999999965, 90.23879999999986],\n",
       " [81.83679999999958, 107.21879999999987],\n",
       " [79.04479999999967, 91.9667999999997],\n",
       " [100.40679999999975, 101.92679999999973],\n",
       " [120.8747999999996, 111.83479999999986],\n",
       " [71.5627999999997, 125.62879999999971],\n",
       " [70.9387999999999, 116.6927999999998],\n",
       " [94.01279999999997, 124.53879999999981],\n",
       " [114.80279999999993, 133.08079999999973],\n",
       " [66.55679999999984, 146.71479999999974],\n",
       " [74.0627999999997, 144.3907999999999],\n",
       " [89.60279999999966, 148.98879999999986],\n",
       " [105.56479999999965, 153.80079999999975]]"
      ]
     },
     "execution_count": 27,
     "metadata": {},
     "output_type": "execute_result"
    }
   ],
   "source": [
    "actual_coordinates"
   ]
  },
  {
   "cell_type": "code",
   "execution_count": 51,
   "id": "34557f86",
   "metadata": {},
   "outputs": [
    {
     "data": {
      "text/plain": [
       "[13.346708118992069,\n",
       " 27.87447032910576,\n",
       " 15.107812913558007,\n",
       " 6.299065665154766,\n",
       " 12.757303578525566,\n",
       " 9.144951270128196,\n",
       " 4.337821362839712,\n",
       " 6.497563940711447,\n",
       " 6.3262892301392055,\n",
       " 5.584677848304909,\n",
       " 2.2942947878122726,\n",
       " 3.999746489588367,\n",
       " 3.589216378688859,\n",
       " 4.196187464089026,\n",
       " 2.659441758967011,\n",
       " 4.04291385147976,\n",
       " 3.663481717823279,\n",
       " 2.5698195428217967,\n",
       " 3.468254554667938,\n",
       " 3.21008299080926,\n",
       " 2.35250170695837]"
      ]
     },
     "execution_count": 51,
     "metadata": {},
     "output_type": "execute_result"
    }
   ],
   "source": [
    "coordinates_variances"
   ]
  },
  {
   "cell_type": "code",
   "execution_count": 58,
   "id": "bd904b87",
   "metadata": {},
   "outputs": [
    {
     "data": {
      "text/plain": [
       "36.78816598360656"
      ]
     },
     "execution_count": 58,
     "metadata": {},
     "output_type": "execute_result"
    }
   ],
   "source": [
    "sum([37.795/feed_size[0]* ori_size[0], 37.795/feed_size[1]* ori_size[1]])/2"
   ]
  },
  {
   "cell_type": "code",
   "execution_count": 41,
   "id": "1f2652f7",
   "metadata": {},
   "outputs": [
    {
     "data": {
      "text/plain": [
       "[-1, 57.002]"
      ]
     },
     "execution_count": 41,
     "metadata": {},
     "output_type": "execute_result"
    }
   ],
   "source": [
    "dataset = 'HandDB'\n",
    "hand_localisation_threshold = [-1, 37.795] if dataset == 'FreiHand' else [-1, 57.002]\n",
    "hand_localisation_threshold"
   ]
  }
 ],
 "metadata": {
  "kernelspec": {
   "display_name": "Python 3 (ipykernel)",
   "language": "python",
   "name": "python3"
  },
  "language_info": {
   "codemirror_mode": {
    "name": "ipython",
    "version": 3
   },
   "file_extension": ".py",
   "mimetype": "text/x-python",
   "name": "python",
   "nbconvert_exporter": "python",
   "pygments_lexer": "ipython3",
   "version": "3.9.12"
  }
 },
 "nbformat": 4,
 "nbformat_minor": 5
}
